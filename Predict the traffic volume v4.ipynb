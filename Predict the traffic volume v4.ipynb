{
 "cells": [
  {
   "cell_type": "code",
   "execution_count": 111,
   "metadata": {},
   "outputs": [],
   "source": [
    "import numpy as np\n",
    "import pandas as pd\n",
    "import torch\n",
    "from torch.utils.data import TensorDataset, DataLoader,Dataset\n",
    "import torch.nn as nn\n",
    "import torch.nn.functional as F\n",
    "import torchvision\n",
    "import torchvision.transforms as transforms\n",
    "import torch.optim as optim\n",
    "from torch.optim import lr_scheduler\n",
    "\n",
    "import json\n",
    "from sklearn import tree\n",
    "from sklearn import preprocessing\n",
    "from sklearn.preprocessing import StandardScaler, MinMaxScaler\n",
    "from sklearn.decomposition import PCA\n",
    "from sklearn.impute import SimpleImputer\n",
    "from collections import Counter\n",
    "from sklearn.preprocessing import LabelEncoder, scale\n",
    "from sklearn.datasets import load_boston\n",
    "from sklearn.cross_decomposition import PLSRegression, PLSSVD\n",
    "from sklearn.linear_model import LinearRegression\n",
    "from sklearn.metrics import mean_squared_error, roc_auc_score, accuracy_score, r2_score\n",
    "from sklearn.model_selection import cross_val_score\n",
    "from sklearn.model_selection import KFold\n",
    "from sklearn.model_selection import train_test_split\n",
    "from pandas.plotting import scatter_matrix\n",
    "from datetime import datetime\n",
    "from scipy import stats\n",
    "import torch.utils.data\n",
    "from sklearn.model_selection import train_test_split\n",
    "from sklearn.ensemble import IsolationForest\n",
    "\n",
    "import matplotlib\n",
    "import matplotlib.pyplot as plt\n",
    "import seaborn as sns\n",
    "\n",
    "import warnings\n",
    "warnings.filterwarnings('ignore')\n",
    "pd.set_option('display.max_columns', 500)"
   ]
  },
  {
   "cell_type": "code",
   "execution_count": 112,
   "metadata": {},
   "outputs": [
    {
     "name": "stdout",
     "output_type": "stream",
     "text": [
      "date_time               object\n",
      "is_holiday              object\n",
      "air_pollution_index      int64\n",
      "humidity                 int64\n",
      "wind_speed               int64\n",
      "wind_direction           int64\n",
      "visibility_in_miles      int64\n",
      "dew_point                int64\n",
      "temperature            float64\n",
      "rain_p_h               float64\n",
      "snow_p_h               float64\n",
      "clouds_all               int64\n",
      "weather_type            object\n",
      "weather_description     object\n",
      "traffic_volume           int64\n",
      "dtype: object\n"
     ]
    }
   ],
   "source": [
    "train_csv = pd.read_csv(\"Train.csv\", keep_default_na=False)\n",
    "test_csv = pd.read_csv(\"Test.csv\", keep_default_na=False)\n",
    "\n",
    "# train = train[0:30]\n",
    "print(train_csv.dtypes)\n",
    "#print(train_csv['traffic_volume'])"
   ]
  },
  {
   "cell_type": "code",
   "execution_count": 113,
   "metadata": {},
   "outputs": [
    {
     "data": {
      "text/plain": [
       "(14454, 14)"
      ]
     },
     "execution_count": 113,
     "metadata": {},
     "output_type": "execute_result"
    }
   ],
   "source": [
    "test_csv.shape"
   ]
  },
  {
   "cell_type": "code",
   "execution_count": 114,
   "metadata": {},
   "outputs": [
    {
     "data": {
      "text/plain": [
       "(33750, 15)"
      ]
     },
     "execution_count": 114,
     "metadata": {},
     "output_type": "execute_result"
    }
   ],
   "source": [
    "train_csv.shape"
   ]
  },
  {
   "cell_type": "code",
   "execution_count": 115,
   "metadata": {},
   "outputs": [],
   "source": [
    "def convertAbsoluteTime(x):\n",
    "    if x != \"\":\n",
    "        datet = datetime.strptime(x, \"%Y-%m-%d %H:%M:%S\")\n",
    "        return datet.timestamp()\n",
    "    return x\n",
    "\n",
    "def convertDayOfWeek(x):\n",
    "    if x != \"\":\n",
    "        datet = datetime.strptime(x, \"%Y-%m-%d %H:%M:%S\")\n",
    "        return datet.timetuple().tm_wday\n",
    "    return x\n",
    "\n",
    "def convertDayOfYear(x):\n",
    "    if x != \"\":\n",
    "        datet = datetime.strptime(x, \"%Y-%m-%d %H:%M:%S\")\n",
    "        return datet.timetuple().tm_yday\n",
    "    return x\n",
    "\n",
    "def convertDayOfMonth(x):\n",
    "    if x != \"\":\n",
    "        datet = datetime.strptime(x, \"%Y-%m-%d %H:%M:%S\")\n",
    "        return datet.timetuple().tm_mday\n",
    "    return x\n",
    "\n",
    "def convertHourOfYear(x):\n",
    "    if x != \"\":\n",
    "        datet = datetime.strptime(x, \"%Y-%m-%d %H:%M:%S\")\n",
    "        return datet.timetuple().tm_hour\n",
    "    return x"
   ]
  },
  {
   "cell_type": "code",
   "execution_count": 116,
   "metadata": {},
   "outputs": [],
   "source": [
    "def preprocess_data(dataset):\n",
    "    #dataset['Power'] = dataset[\"Power\"].replace(\"bhp\", \"\", regex=True).replace(\"null\", \"\", regex=True)\n",
    "    #dataset['Power'] = pd.to_numeric(dataset[\"Power\"].str.strip())\n",
    "    #dataset['Engine'] = dataset[\"Engine\"].replace(\"CC\", \"\", regex=True)\n",
    "    #dataset['Engine'] = pd.to_numeric(dataset[\"Engine\"].str.strip())\n",
    "    dataset['absolute_time'] = dataset[\"date_time\"].apply(convertAbsoluteTime)\n",
    "    dataset['day_of_week'] = dataset[\"date_time\"].apply(convertDayOfWeek)\n",
    "    dataset['day_of_year'] = dataset[\"date_time\"].apply(convertDayOfYear)\n",
    "    dataset['hour_of_day'] = dataset[\"date_time\"].apply(convertHourOfYear)\n",
    "    dataset['day_of_month'] = dataset[\"date_time\"].apply(convertDayOfMonth)\n",
    "    \n",
    "    #dataset['Mileage'] = pd.to_numeric(dataset[\"Mileage\"])\n",
    "    #dataset['New_Price'] = dataset[\"New_Price\"].apply(convertKgtoL)\n",
    "    #dataset['New_Price'] = pd.to_numeric(dataset[\"New_Price\"])\n",
    "   \n",
    "    dataset = dataset.replace('NaN', '')\n",
    "    dataset = dataset.replace('0', '')\n",
    "    dataset['weather_description'] = dataset[\"weather_description\"].replace(\" \", \"_\", regex=True).str.lower()\n",
    "    dataset['is_holiday'] = dataset[\"is_holiday\"].replace(\" \", \"_\", regex=True).str.lower()    \n",
    "\n",
    "    for col in list(dataset.columns):\n",
    "        if dataset[col].dtype == np.float64 or dataset[col].dtype == np.int64:\n",
    "            dataset[col] = pd.to_numeric(dataset[col])\n",
    "            #dataset[col] = dataset[col].mask(dataset[col]<=0)\n",
    "    \n",
    "    dataset.sort_values(\"date_time\", inplace=True)\n",
    "    #dataset.drop_duplicates(subset=['date_time'], keep = False, inplace = True) \n",
    "    dataset = dataset.drop(['date_time'],axis=1)\n",
    "    dataset = dataset.drop(['weather_type'],axis=1)\n",
    "    #dataset = dataset.drop(['Year'],axis=1)\n",
    "    return dataset"
   ]
  },
  {
   "cell_type": "code",
   "execution_count": 117,
   "metadata": {},
   "outputs": [
    {
     "data": {
      "text/html": [
       "<div>\n",
       "<style scoped>\n",
       "    .dataframe tbody tr th:only-of-type {\n",
       "        vertical-align: middle;\n",
       "    }\n",
       "\n",
       "    .dataframe tbody tr th {\n",
       "        vertical-align: top;\n",
       "    }\n",
       "\n",
       "    .dataframe thead th {\n",
       "        text-align: right;\n",
       "    }\n",
       "</style>\n",
       "<table border=\"1\" class=\"dataframe\">\n",
       "  <thead>\n",
       "    <tr style=\"text-align: right;\">\n",
       "      <th></th>\n",
       "      <th>is_holiday</th>\n",
       "      <th>air_pollution_index</th>\n",
       "      <th>humidity</th>\n",
       "      <th>wind_speed</th>\n",
       "      <th>wind_direction</th>\n",
       "      <th>visibility_in_miles</th>\n",
       "      <th>dew_point</th>\n",
       "      <th>temperature</th>\n",
       "      <th>rain_p_h</th>\n",
       "      <th>snow_p_h</th>\n",
       "      <th>clouds_all</th>\n",
       "      <th>weather_description</th>\n",
       "      <th>traffic_volume</th>\n",
       "      <th>absolute_time</th>\n",
       "      <th>day_of_week</th>\n",
       "      <th>day_of_year</th>\n",
       "      <th>hour_of_day</th>\n",
       "      <th>day_of_month</th>\n",
       "    </tr>\n",
       "  </thead>\n",
       "  <tbody>\n",
       "    <tr>\n",
       "      <th>0</th>\n",
       "      <td>none</td>\n",
       "      <td>121</td>\n",
       "      <td>89</td>\n",
       "      <td>2</td>\n",
       "      <td>329</td>\n",
       "      <td>1</td>\n",
       "      <td>1</td>\n",
       "      <td>288.28</td>\n",
       "      <td>0.0</td>\n",
       "      <td>0.0</td>\n",
       "      <td>40</td>\n",
       "      <td>scattered_clouds</td>\n",
       "      <td>5545</td>\n",
       "      <td>1.349149e+09</td>\n",
       "      <td>1</td>\n",
       "      <td>276</td>\n",
       "      <td>9</td>\n",
       "      <td>2</td>\n",
       "    </tr>\n",
       "    <tr>\n",
       "      <th>1</th>\n",
       "      <td>none</td>\n",
       "      <td>178</td>\n",
       "      <td>67</td>\n",
       "      <td>3</td>\n",
       "      <td>330</td>\n",
       "      <td>1</td>\n",
       "      <td>1</td>\n",
       "      <td>289.36</td>\n",
       "      <td>0.0</td>\n",
       "      <td>0.0</td>\n",
       "      <td>75</td>\n",
       "      <td>broken_clouds</td>\n",
       "      <td>4516</td>\n",
       "      <td>1.349152e+09</td>\n",
       "      <td>1</td>\n",
       "      <td>276</td>\n",
       "      <td>10</td>\n",
       "      <td>2</td>\n",
       "    </tr>\n",
       "    <tr>\n",
       "      <th>2</th>\n",
       "      <td>none</td>\n",
       "      <td>113</td>\n",
       "      <td>66</td>\n",
       "      <td>3</td>\n",
       "      <td>329</td>\n",
       "      <td>2</td>\n",
       "      <td>2</td>\n",
       "      <td>289.58</td>\n",
       "      <td>0.0</td>\n",
       "      <td>0.0</td>\n",
       "      <td>90</td>\n",
       "      <td>overcast_clouds</td>\n",
       "      <td>4767</td>\n",
       "      <td>1.349156e+09</td>\n",
       "      <td>1</td>\n",
       "      <td>276</td>\n",
       "      <td>11</td>\n",
       "      <td>2</td>\n",
       "    </tr>\n",
       "    <tr>\n",
       "      <th>3</th>\n",
       "      <td>none</td>\n",
       "      <td>20</td>\n",
       "      <td>66</td>\n",
       "      <td>3</td>\n",
       "      <td>329</td>\n",
       "      <td>5</td>\n",
       "      <td>5</td>\n",
       "      <td>290.13</td>\n",
       "      <td>0.0</td>\n",
       "      <td>0.0</td>\n",
       "      <td>90</td>\n",
       "      <td>overcast_clouds</td>\n",
       "      <td>5026</td>\n",
       "      <td>1.349159e+09</td>\n",
       "      <td>1</td>\n",
       "      <td>276</td>\n",
       "      <td>12</td>\n",
       "      <td>2</td>\n",
       "    </tr>\n",
       "    <tr>\n",
       "      <th>4</th>\n",
       "      <td>none</td>\n",
       "      <td>281</td>\n",
       "      <td>65</td>\n",
       "      <td>3</td>\n",
       "      <td>329</td>\n",
       "      <td>7</td>\n",
       "      <td>7</td>\n",
       "      <td>291.14</td>\n",
       "      <td>0.0</td>\n",
       "      <td>0.0</td>\n",
       "      <td>75</td>\n",
       "      <td>broken_clouds</td>\n",
       "      <td>4918</td>\n",
       "      <td>1.349163e+09</td>\n",
       "      <td>1</td>\n",
       "      <td>276</td>\n",
       "      <td>13</td>\n",
       "      <td>2</td>\n",
       "    </tr>\n",
       "  </tbody>\n",
       "</table>\n",
       "</div>"
      ],
      "text/plain": [
       "  is_holiday  air_pollution_index  humidity  wind_speed  wind_direction  \\\n",
       "0       none                  121        89           2             329   \n",
       "1       none                  178        67           3             330   \n",
       "2       none                  113        66           3             329   \n",
       "3       none                   20        66           3             329   \n",
       "4       none                  281        65           3             329   \n",
       "\n",
       "   visibility_in_miles  dew_point  temperature  rain_p_h  snow_p_h  \\\n",
       "0                    1          1       288.28       0.0       0.0   \n",
       "1                    1          1       289.36       0.0       0.0   \n",
       "2                    2          2       289.58       0.0       0.0   \n",
       "3                    5          5       290.13       0.0       0.0   \n",
       "4                    7          7       291.14       0.0       0.0   \n",
       "\n",
       "   clouds_all weather_description  traffic_volume  absolute_time  day_of_week  \\\n",
       "0          40    scattered_clouds            5545   1.349149e+09            1   \n",
       "1          75       broken_clouds            4516   1.349152e+09            1   \n",
       "2          90     overcast_clouds            4767   1.349156e+09            1   \n",
       "3          90     overcast_clouds            5026   1.349159e+09            1   \n",
       "4          75       broken_clouds            4918   1.349163e+09            1   \n",
       "\n",
       "   day_of_year  hour_of_day  day_of_month  \n",
       "0          276            9             2  \n",
       "1          276           10             2  \n",
       "2          276           11             2  \n",
       "3          276           12             2  \n",
       "4          276           13             2  "
      ]
     },
     "metadata": {},
     "output_type": "display_data"
    }
   ],
   "source": [
    "train = preprocess_data(train_csv)\n",
    "test = preprocess_data(test_csv)\n",
    "\n",
    "display(train.head())\n",
    "#train.columns"
   ]
  },
  {
   "cell_type": "code",
   "execution_count": 118,
   "metadata": {},
   "outputs": [
    {
     "data": {
      "text/plain": [
       "'\\nfor c in [\"weather_description\", \"is_holiday\"]:\\n    lbl = LabelEncoder() \\n    lbl.fit(list(np.concatenate((train[c].values, test[c].values), axis=None))) \\n    train[c] = lbl.transform(list(train[c].values))\\n    test[c] = lbl.transform(list(test[c].values))\\n'"
      ]
     },
     "execution_count": 118,
     "metadata": {},
     "output_type": "execute_result"
    }
   ],
   "source": [
    "\"\"\"\n",
    "for c in [\"weather_description\", \"is_holiday\"]:\n",
    "    lbl = LabelEncoder() \n",
    "    lbl.fit(list(np.concatenate((train[c].values, test[c].values), axis=None))) \n",
    "    train[c] = lbl.transform(list(train[c].values))\n",
    "    test[c] = lbl.transform(list(test[c].values))\n",
    "\"\"\""
   ]
  },
  {
   "cell_type": "code",
   "execution_count": 119,
   "metadata": {},
   "outputs": [
    {
     "data": {
      "text/plain": [
       "(33750, 18)"
      ]
     },
     "execution_count": 119,
     "metadata": {},
     "output_type": "execute_result"
    }
   ],
   "source": [
    "train.shape"
   ]
  },
  {
   "cell_type": "code",
   "execution_count": 120,
   "metadata": {},
   "outputs": [
    {
     "data": {
      "text/plain": [
       "count    33750.000000\n",
       "mean      3240.118163\n",
       "std       1991.487289\n",
       "min          0.000000\n",
       "25%       1165.250000\n",
       "50%       3335.000000\n",
       "75%       4926.000000\n",
       "max       7280.000000\n",
       "Name: traffic_volume, dtype: float64"
      ]
     },
     "execution_count": 120,
     "metadata": {},
     "output_type": "execute_result"
    }
   ],
   "source": [
    "train['traffic_volume'].describe()"
   ]
  },
  {
   "cell_type": "code",
   "execution_count": 121,
   "metadata": {},
   "outputs": [
    {
     "name": "stdout",
     "output_type": "stream",
     "text": [
      "Skewness: -0.071139\n",
      "Kurtosis: -1.315953\n"
     ]
    }
   ],
   "source": [
    "print(\"Skewness: %f\" % train['traffic_volume'].skew())\n",
    "print(\"Kurtosis: %f\" % train['traffic_volume'].kurt())"
   ]
  },
  {
   "cell_type": "code",
   "execution_count": 122,
   "metadata": {},
   "outputs": [
    {
     "data": {
      "text/plain": [
       "is_holiday              object\n",
       "air_pollution_index      int64\n",
       "humidity                 int64\n",
       "wind_speed               int64\n",
       "wind_direction           int64\n",
       "visibility_in_miles      int64\n",
       "dew_point                int64\n",
       "temperature            float64\n",
       "rain_p_h               float64\n",
       "snow_p_h               float64\n",
       "clouds_all               int64\n",
       "weather_description     object\n",
       "traffic_volume           int64\n",
       "absolute_time          float64\n",
       "day_of_week              int64\n",
       "day_of_year              int64\n",
       "hour_of_day              int64\n",
       "day_of_month             int64\n",
       "dtype: object"
      ]
     },
     "execution_count": 122,
     "metadata": {},
     "output_type": "execute_result"
    }
   ],
   "source": [
    "train.dtypes"
   ]
  },
  {
   "cell_type": "code",
   "execution_count": 123,
   "metadata": {},
   "outputs": [
    {
     "data": {
      "text/plain": [
       "Index(['is_holiday', 'air_pollution_index', 'humidity', 'wind_speed',\n",
       "       'wind_direction', 'visibility_in_miles', 'dew_point', 'temperature',\n",
       "       'rain_p_h', 'snow_p_h', 'clouds_all', 'weather_description',\n",
       "       'traffic_volume', 'absolute_time', 'day_of_week', 'day_of_year',\n",
       "       'hour_of_day', 'day_of_month'],\n",
       "      dtype='object')"
      ]
     },
     "execution_count": 123,
     "metadata": {},
     "output_type": "execute_result"
    }
   ],
   "source": [
    "train.columns"
   ]
  },
  {
   "cell_type": "code",
   "execution_count": 124,
   "metadata": {},
   "outputs": [],
   "source": [
    "#combined_set = pd.concat([train, test], axis=0, ignore_index=True)"
   ]
  },
  {
   "cell_type": "code",
   "execution_count": 125,
   "metadata": {},
   "outputs": [
    {
     "data": {
      "image/png": "[encoded data removed]",
      "text/plain": [
       "<Figure size 720x720 with 2 Axes>"
      ]
     },
     "metadata": {},
     "output_type": "display_data"
    }
   ],
   "source": [
    "corcolm = ['is_holiday', 'air_pollution_index', 'humidity', 'wind_speed',\n",
    "       'visibility_in_miles', 'temperature', 'clouds_all', 'weather_description', 'traffic_volume'];\n",
    "\n",
    "linearcol = [\"traffic_volume\", \"hour_of_day\", \"temperature\", \"rain_p_h\"]\n",
    "linearcolbias = [\"hour_of_day\", \"temperature\", \"rain_p_h\"]\n",
    "textcol = [\"weather_description\", \"is_holiday\"]\n",
    "\n",
    "#correlation matrix\n",
    "#corrmat = train[corcolm].corr()\n",
    "corrmat = train.corr()\n",
    "f, ax = plt.subplots(figsize=(10, 10))\n",
    "sns.heatmap(corrmat, vmax=.8, square=True);\n"
   ]
  },
  {
   "cell_type": "code",
   "execution_count": 126,
   "metadata": {},
   "outputs": [
    {
     "data": {
      "image/png": "[encoded data removed]",
      "text/plain": [
       "<Figure size 432x288 with 1 Axes>"
      ]
     },
     "metadata": {},
     "output_type": "display_data"
    }
   ],
   "source": [
    "#x_train = train.drop('traffic_volume',axis = 1)\n",
    "x = np.array(train.day_of_month).reshape((33750,1))\n",
    "y = np.array(train.traffic_volume).reshape((33750,1))\n",
    "\n",
    "model = LinearRegression()\n",
    "model.fit(x, y)\n",
    "y_pred = model.predict(x)\n",
    "\n",
    "plt.scatter(x, y, s=10)\n",
    "plt.plot(x, y_pred, color='r')\n",
    "plt.show()"
   ]
  },
  {
   "cell_type": "code",
   "execution_count": 127,
   "metadata": {},
   "outputs": [
    {
     "data": {
      "image/png": "[encoded data removed]",
      "text/plain": [
       "<Figure size 360x360 with 2 Axes>"
      ]
     },
     "metadata": {},
     "output_type": "display_data"
    }
   ],
   "source": [
    "#corrmat = train[linearcol].corr()\n",
    "#saleprice correlation matrix\n",
    "k = 6 #number of variables for heatmap\n",
    "cols = train[linearcol].corr().index\n",
    "cm = np.corrcoef(train[cols].values.T)\n",
    "sns.set(font_scale=1.25)\n",
    "f, ax = plt.subplots(figsize=(5, 5))\n",
    "hm = sns.heatmap(cm, cbar=True, annot=True, square=True, fmt='.2f', annot_kws={'size': 10}, yticklabels=cols.values, xticklabels=cols.values)\n",
    "plt.show()"
   ]
  },
  {
   "cell_type": "code",
   "execution_count": 128,
   "metadata": {},
   "outputs": [
    {
     "data": {
      "text/html": [
       "<div>\n",
       "<style scoped>\n",
       "    .dataframe tbody tr th:only-of-type {\n",
       "        vertical-align: middle;\n",
       "    }\n",
       "\n",
       "    .dataframe tbody tr th {\n",
       "        vertical-align: top;\n",
       "    }\n",
       "\n",
       "    .dataframe thead th {\n",
       "        text-align: right;\n",
       "    }\n",
       "</style>\n",
       "<table border=\"1\" class=\"dataframe\">\n",
       "  <thead>\n",
       "    <tr style=\"text-align: right;\">\n",
       "      <th></th>\n",
       "      <th>Total</th>\n",
       "      <th>Percent</th>\n",
       "    </tr>\n",
       "  </thead>\n",
       "  <tbody>\n",
       "    <tr>\n",
       "      <th>day_of_month</th>\n",
       "      <td>0</td>\n",
       "      <td>0.0</td>\n",
       "    </tr>\n",
       "    <tr>\n",
       "      <th>hour_of_day</th>\n",
       "      <td>0</td>\n",
       "      <td>0.0</td>\n",
       "    </tr>\n",
       "    <tr>\n",
       "      <th>air_pollution_index</th>\n",
       "      <td>0</td>\n",
       "      <td>0.0</td>\n",
       "    </tr>\n",
       "    <tr>\n",
       "      <th>humidity</th>\n",
       "      <td>0</td>\n",
       "      <td>0.0</td>\n",
       "    </tr>\n",
       "    <tr>\n",
       "      <th>wind_speed</th>\n",
       "      <td>0</td>\n",
       "      <td>0.0</td>\n",
       "    </tr>\n",
       "    <tr>\n",
       "      <th>wind_direction</th>\n",
       "      <td>0</td>\n",
       "      <td>0.0</td>\n",
       "    </tr>\n",
       "    <tr>\n",
       "      <th>visibility_in_miles</th>\n",
       "      <td>0</td>\n",
       "      <td>0.0</td>\n",
       "    </tr>\n",
       "    <tr>\n",
       "      <th>dew_point</th>\n",
       "      <td>0</td>\n",
       "      <td>0.0</td>\n",
       "    </tr>\n",
       "    <tr>\n",
       "      <th>temperature</th>\n",
       "      <td>0</td>\n",
       "      <td>0.0</td>\n",
       "    </tr>\n",
       "    <tr>\n",
       "      <th>rain_p_h</th>\n",
       "      <td>0</td>\n",
       "      <td>0.0</td>\n",
       "    </tr>\n",
       "    <tr>\n",
       "      <th>snow_p_h</th>\n",
       "      <td>0</td>\n",
       "      <td>0.0</td>\n",
       "    </tr>\n",
       "    <tr>\n",
       "      <th>clouds_all</th>\n",
       "      <td>0</td>\n",
       "      <td>0.0</td>\n",
       "    </tr>\n",
       "    <tr>\n",
       "      <th>weather_description</th>\n",
       "      <td>0</td>\n",
       "      <td>0.0</td>\n",
       "    </tr>\n",
       "    <tr>\n",
       "      <th>traffic_volume</th>\n",
       "      <td>0</td>\n",
       "      <td>0.0</td>\n",
       "    </tr>\n",
       "    <tr>\n",
       "      <th>absolute_time</th>\n",
       "      <td>0</td>\n",
       "      <td>0.0</td>\n",
       "    </tr>\n",
       "    <tr>\n",
       "      <th>day_of_week</th>\n",
       "      <td>0</td>\n",
       "      <td>0.0</td>\n",
       "    </tr>\n",
       "    <tr>\n",
       "      <th>day_of_year</th>\n",
       "      <td>0</td>\n",
       "      <td>0.0</td>\n",
       "    </tr>\n",
       "    <tr>\n",
       "      <th>is_holiday</th>\n",
       "      <td>0</td>\n",
       "      <td>0.0</td>\n",
       "    </tr>\n",
       "  </tbody>\n",
       "</table>\n",
       "</div>"
      ],
      "text/plain": [
       "                     Total  Percent\n",
       "day_of_month             0      0.0\n",
       "hour_of_day              0      0.0\n",
       "air_pollution_index      0      0.0\n",
       "humidity                 0      0.0\n",
       "wind_speed               0      0.0\n",
       "wind_direction           0      0.0\n",
       "visibility_in_miles      0      0.0\n",
       "dew_point                0      0.0\n",
       "temperature              0      0.0\n",
       "rain_p_h                 0      0.0\n",
       "snow_p_h                 0      0.0\n",
       "clouds_all               0      0.0\n",
       "weather_description      0      0.0\n",
       "traffic_volume           0      0.0\n",
       "absolute_time            0      0.0\n",
       "day_of_week              0      0.0\n",
       "day_of_year              0      0.0\n",
       "is_holiday               0      0.0"
      ]
     },
     "execution_count": 128,
     "metadata": {},
     "output_type": "execute_result"
    }
   ],
   "source": [
    "#combined_set = combined_set[corcolm]\n",
    "#train = train[corcolm]\n",
    "\n",
    "total = train.isnull().sum().sort_values(ascending=False)\n",
    "percent = (train.isnull().sum()/train.isnull().count()).sort_values(ascending=False)\n",
    "missing_data = pd.concat([total, percent], axis=1, keys=['Total', 'Percent'])\n",
    "missing_data.head(25)"
   ]
  },
  {
   "cell_type": "code",
   "execution_count": 129,
   "metadata": {},
   "outputs": [],
   "source": [
    "#train = train.interpolate(method ='linear', limit_direction ='both')"
   ]
  },
  {
   "cell_type": "code",
   "execution_count": 130,
   "metadata": {},
   "outputs": [
    {
     "data": {
      "text/html": [
       "<div>\n",
       "<style scoped>\n",
       "    .dataframe tbody tr th:only-of-type {\n",
       "        vertical-align: middle;\n",
       "    }\n",
       "\n",
       "    .dataframe tbody tr th {\n",
       "        vertical-align: top;\n",
       "    }\n",
       "\n",
       "    .dataframe thead th {\n",
       "        text-align: right;\n",
       "    }\n",
       "</style>\n",
       "<table border=\"1\" class=\"dataframe\">\n",
       "  <thead>\n",
       "    <tr style=\"text-align: right;\">\n",
       "      <th></th>\n",
       "      <th>traffic_volume</th>\n",
       "      <th>hour_of_day</th>\n",
       "      <th>temperature</th>\n",
       "      <th>rain_p_h</th>\n",
       "    </tr>\n",
       "  </thead>\n",
       "  <tbody>\n",
       "    <tr>\n",
       "      <th>0</th>\n",
       "      <td>0.761676</td>\n",
       "      <td>0.391304</td>\n",
       "      <td>0.935245</td>\n",
       "      <td>0.0</td>\n",
       "    </tr>\n",
       "    <tr>\n",
       "      <th>1</th>\n",
       "      <td>0.620330</td>\n",
       "      <td>0.434783</td>\n",
       "      <td>0.938749</td>\n",
       "      <td>0.0</td>\n",
       "    </tr>\n",
       "    <tr>\n",
       "      <th>2</th>\n",
       "      <td>0.654808</td>\n",
       "      <td>0.478261</td>\n",
       "      <td>0.939463</td>\n",
       "      <td>0.0</td>\n",
       "    </tr>\n",
       "    <tr>\n",
       "      <th>3</th>\n",
       "      <td>0.690385</td>\n",
       "      <td>0.521739</td>\n",
       "      <td>0.941247</td>\n",
       "      <td>0.0</td>\n",
       "    </tr>\n",
       "    <tr>\n",
       "      <th>4</th>\n",
       "      <td>0.675549</td>\n",
       "      <td>0.565217</td>\n",
       "      <td>0.944524</td>\n",
       "      <td>0.0</td>\n",
       "    </tr>\n",
       "  </tbody>\n",
       "</table>\n",
       "</div>"
      ],
      "text/plain": [
       "   traffic_volume  hour_of_day  temperature  rain_p_h\n",
       "0        0.761676     0.391304     0.935245       0.0\n",
       "1        0.620330     0.434783     0.938749       0.0\n",
       "2        0.654808     0.478261     0.939463       0.0\n",
       "3        0.690385     0.521739     0.941247       0.0\n",
       "4        0.675549     0.565217     0.944524       0.0"
      ]
     },
     "metadata": {},
     "output_type": "display_data"
    }
   ],
   "source": [
    "col_train_num = list(linearcol)\n",
    "\n",
    "col_train_num_bias = list(linearcol)\n",
    "col_train_num_bias.remove('traffic_volume')\n",
    "\n",
    "train = train[col_train_num]\n",
    "test = test[col_train_num_bias]\n",
    "\n",
    "mat_train = np.matrix(train)\n",
    "mat_test  = np.matrix(test)\n",
    "mat_new = np.matrix(train.drop('traffic_volume',axis = 1))\n",
    "mat_y = np.array(train.traffic_volume).reshape((33750,1))\n",
    "\n",
    "prepro_y = MinMaxScaler()\n",
    "prepro_y.fit(mat_y)\n",
    "\n",
    "prepro = MinMaxScaler()\n",
    "prepro.fit(mat_train)\n",
    "\n",
    "prepro_test = MinMaxScaler()\n",
    "prepro_test.fit(mat_new)\n",
    "\n",
    "# trimed_test.to_csv(\"output_final_3.csv\")\n",
    "train_set = pd.DataFrame(prepro.transform(train),columns = col_train_num)\n",
    "\n",
    "# test = pd.DataFrame(prepro_test.transform(mat_test),columns = col_train_bis)\n",
    "\n",
    "test_set  = pd.DataFrame(prepro_test.transform(mat_test),columns = col_train_num_bias)\n",
    "\n",
    "display(train_set.head())"
   ]
  },
  {
   "cell_type": "code",
   "execution_count": 131,
   "metadata": {},
   "outputs": [
    {
     "data": {
      "image/png": "[encoded data removed]",
      "text/plain": [
       "<Figure size 432x288 with 1 Axes>"
      ]
     },
     "metadata": {},
     "output_type": "display_data"
    },
    {
     "data": {
      "image/png": "[encoded data removed]",
      "text/plain": [
       "<Figure size 432x288 with 1 Axes>"
      ]
     },
     "metadata": {},
     "output_type": "display_data"
    }
   ],
   "source": [
    "#train['traffic_volume'] = np.sqrt(train['traffic_volume'])\n",
    "#print(train['traffic_volume'])\n",
    "#std = MinMaxScaler().fit_transform(train['traffic_volume'][:,np.newaxis]);\n",
    "sns.distplot(train_set['traffic_volume'], fit=stats.norm);\n",
    "fig = plt.figure()\n",
    "res = stats.probplot(train_set['traffic_volume'], plot=plt)"
   ]
  },
  {
   "cell_type": "code",
   "execution_count": 132,
   "metadata": {},
   "outputs": [
    {
     "data": {
      "image/png": "[encoded data removed]",
      "text/plain": [
       "<Figure size 432x288 with 1 Axes>"
      ]
     },
     "metadata": {},
     "output_type": "display_data"
    },
    {
     "data": {
      "image/png": "[encoded data removed]",
      "text/plain": [
       "<Figure size 432x288 with 1 Axes>"
      ]
     },
     "metadata": {},
     "output_type": "display_data"
    }
   ],
   "source": [
    "#train['traffic_volume'] = np.sqrt(train['traffic_volume'])\n",
    "#print(train['traffic_volume'])\n",
    "#std = MinMaxScaler().fit_transform(train['hour_of_day'][:,np.newaxis]);\n",
    "sns.distplot(train['hour_of_day'], fit=stats.norm);\n",
    "fig = plt.figure()\n",
    "res = stats.probplot(train['hour_of_day'], plot=plt)"
   ]
  },
  {
   "cell_type": "code",
   "execution_count": 133,
   "metadata": {},
   "outputs": [
    {
     "data": {
      "image/png": "[encoded data removed]",
      "text/plain": [
       "<Figure size 432x288 with 1 Axes>"
      ]
     },
     "metadata": {},
     "output_type": "display_data"
    },
    {
     "data": {
      "image/png": "[encoded data removed]",
      "text/plain": [
       "<Figure size 432x288 with 1 Axes>"
      ]
     },
     "metadata": {},
     "output_type": "display_data"
    }
   ],
   "source": [
    "sns.distplot(train['temperature'], fit=stats.norm);\n",
    "fig = plt.figure()\n",
    "res = stats.probplot(train['temperature'], plot=plt)"
   ]
  },
  {
   "cell_type": "code",
   "execution_count": 134,
   "metadata": {},
   "outputs": [
    {
     "data": {
      "image/png": "[encoded data removed]",
      "text/plain": [
       "<Figure size 432x288 with 1 Axes>"
      ]
     },
     "metadata": {},
     "output_type": "display_data"
    },
    {
     "data": {
      "image/png": "[encoded data removed]",
      "text/plain": [
       "<Figure size 432x288 with 1 Axes>"
      ]
     },
     "metadata": {},
     "output_type": "display_data"
    }
   ],
   "source": [
    "#train['temperature'] = np.power(train['temperature'], 4)\n",
    "sns.distplot(train['temperature'], fit=stats.norm);\n",
    "fig = plt.figure()\n",
    "res = stats.probplot(train['temperature'], plot=plt)"
   ]
  },
  {
   "cell_type": "code",
   "execution_count": 135,
   "metadata": {},
   "outputs": [
    {
     "name": "stdout",
     "output_type": "stream",
     "text": [
      "[1 1 1 ... 1 1 1]\n",
      "29026    0.403297\n",
      "31527    0.897115\n",
      "12935    0.601648\n",
      "4421     0.038736\n",
      "12143    0.763187\n",
      "8843     0.864286\n",
      "22627    0.057280\n",
      "11596    0.340247\n",
      "9327     0.616758\n",
      "33212    0.340385\n",
      "13723    0.693681\n",
      "25687    0.358654\n",
      "11036    0.189560\n",
      "30523    0.175962\n",
      "22909    0.727473\n",
      "3483     0.337912\n",
      "5163     0.425275\n",
      "1940     0.711264\n",
      "17279    0.278984\n",
      "7452     0.656593\n",
      "24363    0.063324\n",
      "18291    0.056868\n",
      "31322    0.594643\n",
      "31       0.398077\n",
      "31180    0.644780\n",
      "30922    0.841209\n",
      "4902     0.154396\n",
      "8924     0.078846\n",
      "10741    0.050137\n",
      "3562     0.876511\n",
      "           ...   \n",
      "22346    0.244093\n",
      "23886    0.437225\n",
      "237      0.105632\n",
      "6451     0.299863\n",
      "29983    0.372665\n",
      "31122    0.130769\n",
      "26830    0.658516\n",
      "28840    0.765522\n",
      "1506     0.592720\n",
      "21742    0.137225\n",
      "12103    0.618132\n",
      "1049     0.050962\n",
      "21605    0.751648\n",
      "25540    0.573489\n",
      "6072     0.442720\n",
      "15857    0.318956\n",
      "5537     0.496016\n",
      "7438     0.088324\n",
      "10192    0.501236\n",
      "8701     0.771291\n",
      "18055    0.640110\n",
      "18412    0.630082\n",
      "2892     0.042033\n",
      "10177    0.382692\n",
      "20325    0.538736\n",
      "24428    0.846154\n",
      "27802    0.868819\n",
      "3516     0.576923\n",
      "31665    0.665247\n",
      "4339     0.497253\n",
      "Name: traffic_volume, Length: 13500, dtype: float64\n",
      "#############################\n",
      "#############################\n"
     ]
    },
    {
     "ename": "ValueError",
     "evalue": "Classification metrics can't handle a mix of continuous and binary targets",
     "output_type": "error",
     "traceback": [
      "\u001b[0;31m---------------------------------------------------------------------------\u001b[0m",
      "\u001b[0;31mValueError\u001b[0m                                Traceback (most recent call last)",
      "\u001b[0;32m<ipython-input-135-747fe51e6c32>\u001b[0m in \u001b[0;36m<module>\u001b[0;34m\u001b[0m\n\u001b[1;32m     24\u001b[0m \u001b[0mprint\u001b[0m\u001b[0;34m(\u001b[0m\u001b[0;34m\"#############################\\n#############################\"\u001b[0m\u001b[0;34m)\u001b[0m\u001b[0;34m\u001b[0m\u001b[0;34m\u001b[0m\u001b[0m\n\u001b[1;32m     25\u001b[0m \u001b[0;34m\u001b[0m\u001b[0m\n\u001b[0;32m---> 26\u001b[0;31m \u001b[0mprint\u001b[0m\u001b[0;34m(\u001b[0m\u001b[0maccuracy_score\u001b[0m\u001b[0;34m(\u001b[0m\u001b[0my_val\u001b[0m\u001b[0;34m,\u001b[0m \u001b[0mpreds\u001b[0m\u001b[0;34m)\u001b[0m\u001b[0;34m)\u001b[0m\u001b[0;34m\u001b[0m\u001b[0;34m\u001b[0m\u001b[0m\n\u001b[0m\u001b[1;32m     27\u001b[0m \u001b[0;34m\u001b[0m\u001b[0m\n\u001b[1;32m     28\u001b[0m \u001b[0mprint\u001b[0m\u001b[0;34m(\u001b[0m\u001b[0mroc_auc_score\u001b[0m\u001b[0;34m(\u001b[0m\u001b[0my_val\u001b[0m\u001b[0;34m,\u001b[0m \u001b[0mpreds\u001b[0m\u001b[0;34m)\u001b[0m\u001b[0;34m)\u001b[0m\u001b[0;34m\u001b[0m\u001b[0;34m\u001b[0m\u001b[0m\n",
      "\u001b[0;32m~/.conda/envs/deep-learning/lib/python3.7/site-packages/sklearn/metrics/classification.py\u001b[0m in \u001b[0;36maccuracy_score\u001b[0;34m(y_true, y_pred, normalize, sample_weight)\u001b[0m\n\u001b[1;32m    174\u001b[0m \u001b[0;34m\u001b[0m\u001b[0m\n\u001b[1;32m    175\u001b[0m     \u001b[0;31m# Compute accuracy for each possible representation\u001b[0m\u001b[0;34m\u001b[0m\u001b[0;34m\u001b[0m\u001b[0;34m\u001b[0m\u001b[0m\n\u001b[0;32m--> 176\u001b[0;31m     \u001b[0my_type\u001b[0m\u001b[0;34m,\u001b[0m \u001b[0my_true\u001b[0m\u001b[0;34m,\u001b[0m \u001b[0my_pred\u001b[0m \u001b[0;34m=\u001b[0m \u001b[0m_check_targets\u001b[0m\u001b[0;34m(\u001b[0m\u001b[0my_true\u001b[0m\u001b[0;34m,\u001b[0m \u001b[0my_pred\u001b[0m\u001b[0;34m)\u001b[0m\u001b[0;34m\u001b[0m\u001b[0;34m\u001b[0m\u001b[0m\n\u001b[0m\u001b[1;32m    177\u001b[0m     \u001b[0mcheck_consistent_length\u001b[0m\u001b[0;34m(\u001b[0m\u001b[0my_true\u001b[0m\u001b[0;34m,\u001b[0m \u001b[0my_pred\u001b[0m\u001b[0;34m,\u001b[0m \u001b[0msample_weight\u001b[0m\u001b[0;34m)\u001b[0m\u001b[0;34m\u001b[0m\u001b[0;34m\u001b[0m\u001b[0m\n\u001b[1;32m    178\u001b[0m     \u001b[0;32mif\u001b[0m \u001b[0my_type\u001b[0m\u001b[0;34m.\u001b[0m\u001b[0mstartswith\u001b[0m\u001b[0;34m(\u001b[0m\u001b[0;34m'multilabel'\u001b[0m\u001b[0;34m)\u001b[0m\u001b[0;34m:\u001b[0m\u001b[0;34m\u001b[0m\u001b[0;34m\u001b[0m\u001b[0m\n",
      "\u001b[0;32m~/.conda/envs/deep-learning/lib/python3.7/site-packages/sklearn/metrics/classification.py\u001b[0m in \u001b[0;36m_check_targets\u001b[0;34m(y_true, y_pred)\u001b[0m\n\u001b[1;32m     79\u001b[0m     \u001b[0;32mif\u001b[0m \u001b[0mlen\u001b[0m\u001b[0;34m(\u001b[0m\u001b[0my_type\u001b[0m\u001b[0;34m)\u001b[0m \u001b[0;34m>\u001b[0m \u001b[0;36m1\u001b[0m\u001b[0;34m:\u001b[0m\u001b[0;34m\u001b[0m\u001b[0;34m\u001b[0m\u001b[0m\n\u001b[1;32m     80\u001b[0m         raise ValueError(\"Classification metrics can't handle a mix of {0} \"\n\u001b[0;32m---> 81\u001b[0;31m                          \"and {1} targets\".format(type_true, type_pred))\n\u001b[0m\u001b[1;32m     82\u001b[0m \u001b[0;34m\u001b[0m\u001b[0m\n\u001b[1;32m     83\u001b[0m     \u001b[0;31m# We can't have more than one value on y_type => The set is no more needed\u001b[0m\u001b[0;34m\u001b[0m\u001b[0;34m\u001b[0m\u001b[0;34m\u001b[0m\u001b[0m\n",
      "\u001b[0;31mValueError\u001b[0m: Classification metrics can't handle a mix of continuous and binary targets"
     ]
    }
   ],
   "source": [
    "COLUMNS = col_train_num\n",
    "FEATURES = col_train_num_bias\n",
    "LABEL = \"traffic_volume\"\n",
    "\n",
    "#FEATURES.remove('Price')\n",
    "\n",
    "# Training set and Prediction set with the features to predict\n",
    "training_set = train_set[col_train_num]\n",
    "prediction_set = training_set.traffic_volume\n",
    "\n",
    "# print(prediction_set)\n",
    "\n",
    "X_train, X_val, y_train, y_val = train_test_split(training_set[FEATURES] , prediction_set, test_size=0.4)\n",
    "\n",
    "alg=IsolationForest(max_samples= 256)\n",
    "\n",
    "alg.fit(X_train)\n",
    "\n",
    "preds = alg.predict(X_val)\n",
    "\n",
    "print(preds)\n",
    "print(y_val)\n",
    "\n",
    "print(\"#############################\\n#############################\")\n",
    "\n",
    "print(accuracy_score(y_val, preds))\n",
    "\n",
    "print(roc_auc_score(y_val, preds))\n",
    "\n",
    "cm = confusion_matrix(y_val, preds)\n",
    "\n",
    "print(cm)\n",
    "\n",
    "print(\"#############################\\n#############################\")\n"
   ]
  },
  {
   "cell_type": "code",
   "execution_count": null,
   "metadata": {},
   "outputs": [],
   "source": [
    "hello"
   ]
  },
  {
   "cell_type": "code",
   "execution_count": null,
   "metadata": {},
   "outputs": [],
   "source": [
    "train.hist(figsize=(15, 15))\n",
    "plt.show()"
   ]
  },
  {
   "cell_type": "code",
   "execution_count": null,
   "metadata": {},
   "outputs": [],
   "source": []
  },
  {
   "cell_type": "code",
   "execution_count": null,
   "metadata": {},
   "outputs": [],
   "source": [
    "train['traffic_volume'] = np.sqrt(train['traffic_volume'])\n",
    "#sns.distplot(train['traffic_volume'], fit=stats.norm);\n",
    "#fig = plt.figure()\n",
    "#res = stats.probplot(train['traffic_volume'], plot=plt)"
   ]
  },
  {
   "cell_type": "code",
   "execution_count": null,
   "metadata": {},
   "outputs": [],
   "source": [
    "train['temperature'] = np.sqrt(train['temperature'])\n",
    "#sns.distplot(train['temperature'], fit=stats.norm);\n",
    "#fig = plt.figure()\n",
    "#res = stats.probplot(train['temperature'], plot=plt)"
   ]
  },
  {
   "cell_type": "code",
   "execution_count": null,
   "metadata": {},
   "outputs": [],
   "source": [
    "#train.plot.scatter(x='hour_of_day', y='traffic_volume', s='temperature', ylim=(0,20));\n",
    "plt.scatter(x=train.hour_of_day, y=train.traffic_volume, s=train.temperature)"
   ]
  },
  {
   "cell_type": "code",
   "execution_count": null,
   "metadata": {},
   "outputs": [],
   "source": []
  },
  {
   "cell_type": "code",
   "execution_count": null,
   "metadata": {},
   "outputs": [],
   "source": [
    "train.plot.kde(figsize=(15, 15))\n",
    "plt.show()"
   ]
  },
  {
   "cell_type": "code",
   "execution_count": null,
   "metadata": {},
   "outputs": [],
   "source": [
    "scatter_matrix(train, figsize=(20, 20))\n",
    "plt.show()"
   ]
  },
  {
   "cell_type": "code",
   "execution_count": null,
   "metadata": {},
   "outputs": [],
   "source": [
    "sns.distplot(train['traffic_volume']);"
   ]
  },
  {
   "cell_type": "code",
   "execution_count": null,
   "metadata": {},
   "outputs": [],
   "source": [
    "#saleprice correlation matrix\n",
    "k = 6 #number of variables for heatmap\n",
    "cols = corrmat.nlargest(k, 'traffic_volume')['traffic_volume'].index\n",
    "cm = np.corrcoef(train[cols].values.T)\n",
    "sns.set(font_scale=1.25)\n",
    "f, ax = plt.subplots(figsize=(10, 10))\n",
    "hm = sns.heatmap(cm, cbar=True, annot=True, square=True, fmt='.2f', annot_kws={'size': 10}, yticklabels=cols.values, xticklabels=cols.values)\n",
    "plt.show()"
   ]
  },
  {
   "cell_type": "code",
   "execution_count": null,
   "metadata": {},
   "outputs": [],
   "source": [
    "#standardizing data\n",
    "saleprice_scaled = StandardScaler().fit_transform(train['traffic_volume'][:,np.newaxis]);\n",
    "low_range = saleprice_scaled[saleprice_scaled[:,0].argsort()][:10]\n",
    "high_range= saleprice_scaled[saleprice_scaled[:,0].argsort()][-10:]\n",
    "print('outer range (low) of the distribution:')\n",
    "print(low_range)\n",
    "print('\\nouter range (high) of the distribution:')\n",
    "print(high_range)"
   ]
  },
  {
   "cell_type": "code",
   "execution_count": null,
   "metadata": {},
   "outputs": [],
   "source": [
    "col_train_num = list(cols)\n",
    "#col_train_num.append(\"is_holiday\")\n",
    "#col_train_num.append(\"weather_type\")\n",
    "#col_train_num.append(\"weather_description\")\n",
    "\n",
    "col_train_num_bias = list(cols)\n",
    "#col_train_num_bias.append(\"is_holiday\")\n",
    "#col_train_num_bias.append(\"weather_type\")\n",
    "#col_train_num_bias.append(\"weather_description\")\n",
    "col_train_num_bias.remove('traffic_volume')\n",
    "\n",
    "print(col_train_num_bias)\n",
    "\n",
    "#test = test[col_train_num_bias]\n",
    "#train = train[col_train_num]\n",
    "\n",
    "train = train[col_train_num]\n",
    "test = test[col_train_num_bias]\n",
    "test = test.interpolate(method ='linear', limit_direction ='both')\n",
    "#test = test.interpolate(method ='linear', limit_direction ='both') \n",
    "#scatter_matrix(train[col_train_num], figsize=(25, 25))\n",
    "#plt.show()\n",
    "#test.isnull().sum().max()"
   ]
  },
  {
   "cell_type": "code",
   "execution_count": null,
   "metadata": {},
   "outputs": [],
   "source": [
    "from scipy import stats\n",
    "#histogram and normal probability plot\n",
    "sns.distplot(train['traffic_volume'], fit=stats.norm);\n",
    "fig = plt.figure()\n",
    "res = stats.probplot(train['traffic_volume'], plot=plt)"
   ]
  },
  {
   "cell_type": "code",
   "execution_count": null,
   "metadata": {},
   "outputs": [],
   "source": [
    "#train_numerical = train.select_dtypes(exclude=['object'])\n",
    "\n",
    "for col in col_train_num:\n",
    "    print(col)\n",
    "    try:\n",
    "        plt.figure()\n",
    "        sns.distplot(train[col], fit=stats.norm);\n",
    "        fig = plt.figure()\n",
    "        res = stats.probplot(train[col], plot=plt)\n",
    "    except TypeError:\n",
    "        print(\"No graph for this {} column\".format(col))\n",
    "    #fig = plt.figure()\n",
    "    #stats.probplot(train[col], plot=plt)"
   ]
  },
  {
   "cell_type": "code",
   "execution_count": null,
   "metadata": {},
   "outputs": [],
   "source": [
    "train['traffic_volume'] = np.sqrt(train['traffic_volume'])\n",
    "sns.distplot(train['traffic_volume'], fit=stats.norm);\n",
    "fig = plt.figure()\n",
    "res = stats.probplot(train['traffic_volume'], plot=plt)"
   ]
  },
  {
   "cell_type": "code",
   "execution_count": null,
   "metadata": {},
   "outputs": [],
   "source": [
    "train['temperature'] = np.sqrt(train['temperature'])\n",
    "sns.distplot(train['temperature'], fit=stats.norm);\n",
    "fig = plt.figure()\n",
    "res = stats.probplot(train['temperature'], plot=plt)"
   ]
  },
  {
   "cell_type": "code",
   "execution_count": null,
   "metadata": {},
   "outputs": [],
   "source": [
    "train['clouds_all'] = np.sqrt(train['clouds_all'])\n",
    "sns.distplot(train['clouds_all'], fit=stats.norm);\n",
    "fig = plt.figure()\n",
    "res = stats.probplot(train['clouds_all'], plot=plt)"
   ]
  },
  {
   "cell_type": "code",
   "execution_count": null,
   "metadata": {},
   "outputs": [],
   "source": [
    "\"\"\"\n",
    "combined_set['wind_speed'] = np.cbrt(combined_set['wind_speed'])\n",
    "sns.distplot(combined_set['wind_speed'], fit=stats.norm);\n",
    "fig = plt.figure()\n",
    "res = stats.probplot(combined_set['wind_speed'], plot=plt)\n",
    "\"\"\""
   ]
  },
  {
   "cell_type": "code",
   "execution_count": null,
   "metadata": {},
   "outputs": [],
   "source": [
    "train['humidity'] = np.sqrt(train['humidity'])\n",
    "sns.distplot(train['humidity'], fit=stats.norm);\n",
    "fig = plt.figure()\n",
    "res = stats.probplot(train['humidity'], plot=plt)"
   ]
  },
  {
   "cell_type": "code",
   "execution_count": null,
   "metadata": {},
   "outputs": [],
   "source": [
    "train['air_pollution_index'] = np.sqrt(train['air_pollution_index'])\n",
    "sns.distplot(train['air_pollution_index'], fit=stats.norm);\n",
    "fig = plt.figure()\n",
    "res = stats.probplot(train['air_pollution_index'], plot=plt)"
   ]
  },
  {
   "cell_type": "code",
   "execution_count": null,
   "metadata": {},
   "outputs": [],
   "source": [
    "\"\"\"\n",
    "train['PLUS_DI'] = np.log(train['PLUS_DI'])\n",
    "test['PLUS_DI'] = np.log(test['PLUS_DI'])\n",
    "sns.distplot(train['PLUS_DI'], fit=stats.norm);\n",
    "fig = plt.figure()\n",
    "res = stats.probplot(train['PLUS_DI'], plot=plt)\n",
    "\"\"\""
   ]
  },
  {
   "cell_type": "code",
   "execution_count": null,
   "metadata": {},
   "outputs": [],
   "source": [
    "\"\"\"\n",
    "train.loc[train['WILLR']>0, 'WILLR'] = np.log(train[train['WILLR']>0]['WILLR'])\n",
    "sns.distplot(train['WILLR'], fit=stats.norm);\n",
    "fig = plt.figure()\n",
    "res = stats.probplot(train['WILLR'], plot=plt)\n",
    "\"\"\""
   ]
  },
  {
   "cell_type": "code",
   "execution_count": null,
   "metadata": {},
   "outputs": [],
   "source": [
    "scatter_matrix(train, figsize=(20, 20), diagonal=\"kde\")\n",
    "plt.show()"
   ]
  },
  {
   "cell_type": "code",
   "execution_count": null,
   "metadata": {},
   "outputs": [],
   "source": [
    "for col in col_train_num:\n",
    "    print(col)\n",
    "    try:\n",
    "        cm = plt.cm.get_cmap('RdYlBu')\n",
    "        data = pd.concat([train['traffic_volume'], train[col]], axis=1)\n",
    "        data.plot.scatter(x=col, y='traffic_volume', ylim=(0,20));\n",
    "    except ValueError:\n",
    "        print(\"No graph for this {} column\".format(col))\n",
    "        raise"
   ]
  },
  {
   "cell_type": "code",
   "execution_count": null,
   "metadata": {},
   "outputs": [],
   "source": [
    "corrmat_next = train.corr()\n",
    "cols_next = corrmat_next.index\n",
    "f, ax = plt.subplots(figsize=(5, 5))\n",
    "hm = sns.heatmap(corrmat_next, cbar=True, annot=True, square=True, fmt='.2f', annot_kws={'size': 10}, yticklabels=cols_next.values, xticklabels=cols_next.values)\n",
    "plt.show()"
   ]
  },
  {
   "cell_type": "code",
   "execution_count": null,
   "metadata": {},
   "outputs": [],
   "source": [
    "combined_set = pd.concat([train, test], axis=0, ignore_index=True)\n",
    "#combined_set = pd.get_dummies(combined_set)\n",
    "display(combined_set.head())"
   ]
  },
  {
   "cell_type": "code",
   "execution_count": null,
   "metadata": {},
   "outputs": [],
   "source": [
    "print(combined_set.shape)\n",
    "\n",
    "train = combined_set[:24950]\n",
    "test = combined_set[24951:]\n",
    "test = test.drop(\"traffic_volume\",axis = 1)\n",
    "\n",
    "col_train = list(train.columns)\n",
    "col_train_bis = list(train.columns)\n",
    "col_train_bis.remove(\"traffic_volume\")\n",
    "\n",
    "mat_train = np.matrix(train)\n",
    "mat_test  = np.matrix(test)\n",
    "mat_new = np.matrix(train.drop('traffic_volume',axis = 1))\n",
    "\n",
    "mat_y = np.array(train.traffic_volume).reshape((24950,1))\n",
    "\n",
    "prepro_y = MinMaxScaler()\n",
    "prepro_y.fit(mat_y)\n",
    "\n",
    "prepro = MinMaxScaler()\n",
    "prepro.fit(mat_train)\n",
    "\n",
    "prepro_test = MinMaxScaler()\n",
    "prepro_test.fit(mat_new)\n",
    "\n",
    "# trimed_test.to_csv(\"output_final_3.csv\")\n",
    "train_set = pd.DataFrame(prepro.transform(train),columns = col_train)\n",
    "\n",
    "# test = pd.DataFrame(prepro_test.transform(mat_test),columns = col_train_bis)\n",
    "\n",
    "test_set  = pd.DataFrame(prepro_test.transform(mat_test),columns = col_train_bis)\n",
    "\n",
    "display(train_set.head())"
   ]
  },
  {
   "cell_type": "code",
   "execution_count": null,
   "metadata": {},
   "outputs": [],
   "source": [
    "COLUMNS = col_train\n",
    "FEATURES = col_train_bis\n",
    "LABEL = \"traffic_volume\"\n",
    "\n",
    "#FEATURES.remove('Price')\n",
    "\n",
    "# Training set and Prediction set with the features to predict\n",
    "training_set = train_set[col_train]\n",
    "prediction_set = training_set.traffic_volume\n",
    "\n",
    "# print(prediction_set)\n",
    "\n",
    "X_train, X_val, y_train, y_val = train_test_split(training_set[FEATURES] , prediction_set, test_size=0.4)\n",
    "\n",
    "train_set_tensor = torch.utils.data.TensorDataset(torch.FloatTensor(X_train.values), torch.FloatTensor(y_train.values))\n",
    "val_set = torch.utils.data.TensorDataset(torch.FloatTensor(X_val.values), torch.FloatTensor(y_val.values))\n",
    "\n",
    "batch_size = 32\n",
    "train_loader = torch.utils.data.DataLoader(train_set_tensor,batch_size=batch_size, shuffle=True)\n",
    "val_loader = torch.utils.data.DataLoader(val_set,batch_size=batch_size)\n",
    "val_test_loader = torch.utils.data.DataLoader(val_set,batch_size=1, shuffle=False)"
   ]
  },
  {
   "cell_type": "code",
   "execution_count": null,
   "metadata": {},
   "outputs": [],
   "source": [
    "\"\"\"\n",
    "train_numerical = train.select_dtypes(exclude=['object'])\n",
    "train_numerical.fillna(0,inplace = True)\n",
    "train_categoric = train.select_dtypes(include=['object'])\n",
    "train_categoric.fillna('NONE',inplace = True)\n",
    "train_new = train_numerical.merge(train_categoric, left_index = True, right_index = True)\n",
    "\n",
    "test_numerical = test.select_dtypes(exclude=['object'])\n",
    "test_numerical.fillna(0,inplace = True)\n",
    "test_categoric = test.select_dtypes(include=['object'])\n",
    "test_categoric.fillna('NONE',inplace = True)\n",
    "test_new = test_numerical.merge(test_categoric, left_index = True, right_index = True) \n",
    "\n",
    "train.dtypes\n",
    "\"\"\""
   ]
  },
  {
   "cell_type": "code",
   "execution_count": null,
   "metadata": {},
   "outputs": [],
   "source": [
    "\"\"\"\n",
    "# Removie the outliers\n",
    "from sklearn.ensemble import IsolationForest\n",
    "\n",
    "clf = IsolationForest(max_samples = 100, random_state = 42)\n",
    "clf.fit(train_numerical)\n",
    "y_noano = clf.predict(train_numerical)\n",
    "y_noano = pd.DataFrame(y_noano, columns = ['Top'])\n",
    "y_noano[y_noano['Top'] == 1].index.values\n",
    "\n",
    "train_numerical = train_numerical.iloc[y_noano[y_noano['Top'] == 1].index.values]\n",
    "train_numerical.reset_index(drop = True, inplace = True)\n",
    "\n",
    "train_categoric = train_categoric.iloc[y_noano[y_noano['Top'] == 1].index.values]\n",
    "train_categoric.reset_index(drop = True, inplace = True)\n",
    "\n",
    "train_new = train_new.iloc[y_noano[y_noano['Top'] == 1].index.values]\n",
    "train_new.reset_index(drop = True, inplace = True)\n",
    "display(train_new.head())\n",
    "\"\"\""
   ]
  },
  {
   "cell_type": "code",
   "execution_count": null,
   "metadata": {},
   "outputs": [],
   "source": [
    "\"\"\"\n",
    "#col_train = list(train_new.columns)\n",
    "col_train_num = list(train_numerical.columns)\n",
    "col_train_num_bis = list(train_numerical.columns)\n",
    "\n",
    "col_train_cat = list(train_categoric.columns)\n",
    "\n",
    "col_train_num_bis.remove('Price')\n",
    "\n",
    "mat_train = np.matrix(train_numerical)\n",
    "mat_test  = np.matrix(test_numerical)\n",
    "mat_new = np.matrix(train_numerical.drop('Price',axis = 1))\n",
    "mat_y = np.array(train_new.Price)\n",
    "\n",
    "print(mat_y.shape)\n",
    "\n",
    "prepro_y = MinMaxScaler()\n",
    "prepro_y.fit(mat_y.reshape(5417,1))\n",
    "\n",
    "prepro = MinMaxScaler()\n",
    "prepro.fit(mat_train)\n",
    "\n",
    "prepro_test = MinMaxScaler()\n",
    "prepro_test.fit(mat_new)\n",
    "\n",
    "train_num_scale = pd.DataFrame(prepro.transform(mat_train),columns = col_train_num)\n",
    "test_num_scale  = pd.DataFrame(prepro_test.transform(mat_test),columns = col_train_num_bis)\n",
    "\n",
    "def oneHotEncode(df,colNames):\n",
    "    for col in colNames:\n",
    "        if( df[col].dtype == np.dtype('object')):\n",
    "            dummies = pd.get_dummies(df[col],prefix=col)\n",
    "            df = pd.concat([df,dummies],axis=1)\n",
    "\n",
    "            #drop the encoded column\n",
    "            df.drop([col],axis = 1 , inplace=True)\n",
    "    return df\n",
    "\n",
    "train_new[col_train_num] = pd.DataFrame(prepro.transform(mat_train),columns = col_train_num)\n",
    "test_new[col_train_num_bis]  = test_num_scale\n",
    "\n",
    "prediction_set = train_new.Price\n",
    "print(prediction_set.shape)\n",
    "combined = train_new.drop('Price',axis = 1).append(test_new)\n",
    "combined.reset_index(inplace=True)\n",
    "print('There were {} columns before encoding categorical features'.format(combined.shape[1]))\n",
    "combined = oneHotEncode(combined, col_train_cat)\n",
    "print('There are {} columns after encoding categorical features'.format(combined.shape[1]))\n",
    "\n",
    "train_new = combined[:5417]\n",
    "test_new = combined[5417:]\n",
    "\"\"\""
   ]
  },
  {
   "cell_type": "code",
   "execution_count": null,
   "metadata": {},
   "outputs": [],
   "source": [
    "\"\"\"\n",
    "# Train and Test \n",
    "X_train, X_val, y_train, y_val = train_test_split(train_new, prediction_set, test_size=0.33, random_state=42)\n",
    "train_set_tensor = torch.utils.data.TensorDataset(torch.FloatTensor(X_train.values), torch.FloatTensor(y_train.values))\n",
    "val_set = torch.utils.data.TensorDataset(torch.FloatTensor(X_val.values), torch.FloatTensor(y_val.values))\n",
    "\n",
    "batch_size = 1\n",
    "train_loader = torch.utils.data.DataLoader(train_set_tensor,batch_size=batch_size, shuffle=True)\n",
    "val_loader = torch.utils.data.DataLoader(val_set,batch_size=batch_size)\n",
    "\"\"\""
   ]
  },
  {
   "cell_type": "code",
   "execution_count": null,
   "metadata": {},
   "outputs": [],
   "source": [
    "# Hyperparameters\n",
    "# batch_no = len(X_train) // batch_size  #batches\n",
    "# cols=X_train.shape[1] #Number of columns in input matrix\n",
    "\n",
    "# Sequence Length\n",
    "#sequence_length = 6  # of words in a sequence 892110\n",
    "# Batch Size\n",
    "# batch_size = 128\n",
    "# train_loader = batch_data(int_text, sequence_length, batch_size)\n",
    "# Number of Epochs\n",
    "num_epochs = 2000\n",
    "# Learning Rate\n",
    "learning_rate = 0.002\n",
    "# Model parameters\n",
    "# Input size\n",
    "input_size = X_train.shape[1]\n",
    "# Output size\n",
    "output_size = 1\n",
    "# Embedding Dimension\n",
    "#embedding_dim = 128\n",
    "# Hidden Dimension\n",
    "hidden_dim = 128\n",
    "# Number of RNN Layers\n",
    "n_layers = 2\n",
    "\n",
    "# Show stats for every n number of batches\n",
    "show_every_n_batches = 50"
   ]
  },
  {
   "cell_type": "code",
   "execution_count": null,
   "metadata": {},
   "outputs": [],
   "source": [
    "import torch.nn as nn\n",
    "\n",
    "class DNNClassifier(nn.Module):\n",
    "    \"\"\"\n",
    "    This is the simple DNN model we will be using to perform Sentiment Analysis.\n",
    "    \"\"\"\n",
    "\n",
    "    def __init__(self, hidden_dim, input_size, output_size, dropout=0.5):\n",
    "        \"\"\"\n",
    "        Initialize the model by settingg up the various layers.\n",
    "        \"\"\"\n",
    "        super(DNNClassifier, self).__init__()\n",
    "\n",
    "        self.sig = nn.Sigmoid()        \n",
    "        # self.word_dict = None\n",
    "        \n",
    "        self.fc1 = nn.Linear(input_size, hidden_dim * 4)\n",
    "        self.fc2 = nn.Linear(hidden_dim * 4, hidden_dim * 2)\n",
    "        #self.fc3 = nn.Linear(hidden_dim * 4, hidden_dim * 2)\n",
    "        self.fc4 = nn.Linear(hidden_dim * 2, hidden_dim)\n",
    "        self.out = nn.Linear(hidden_dim, output_size)\n",
    "        self.dropout = nn.Dropout(p=0.5)\n",
    "        self.init_weights()\n",
    "        \n",
    "    def init_weights(m):\n",
    "        initrange = 0.08\n",
    "        classname = m.__class__.__name__\n",
    "        if classname.find('Linear') != -1:\n",
    "            # get the number of the inputs\n",
    "            n = m.in_features\n",
    "            y = 1.0/np.sqrt(n)\n",
    "            m.weight.data.normal_(0.0, y)\n",
    "            m.bias.data.fill_(0)\n",
    "        \n",
    "    def forward(self, x):\n",
    "        \"\"\"\n",
    "        Perform a forward pass of our model on some input.\n",
    "        \"\"\"\n",
    "        x = F.relu(self.fc1(x))\n",
    "        x = self.dropout(x)\n",
    "        x = F.relu(self.fc2(x))\n",
    "        x = self.dropout(x)\n",
    "        x = F.relu(self.fc4(x))\n",
    "        x = self.dropout(x)\n",
    "        out = self.out(x)\n",
    "        return out"
   ]
  },
  {
   "cell_type": "code",
   "execution_count": null,
   "metadata": {},
   "outputs": [],
   "source": [
    "from torch.autograd import Variable\n",
    "\n",
    "def forward_back_prop(rnn, optimizer, criterion, inputs, labels, clip=9):\n",
    "\n",
    "    if(train_on_gpu):\n",
    "        inputs, labels = inputs.cuda(), labels.cuda()\n",
    "\n",
    "    hidden = {}\n",
    "    # hidden = tuple([each.data for each in hidden_dim])\n",
    "    \n",
    "    rnn.zero_grad()\n",
    "    optimizer.zero_grad()\n",
    "    #print(inputs)\n",
    "    try:\n",
    "        # get the output from the model\n",
    "        # output, hidden = rnn(inputs, hidden)\n",
    "        output = rnn.forward(inputs)\n",
    "        #output = rnn(inputs.unsqueeze(0))\n",
    "        output = output.squeeze()\n",
    "        #print(output)\n",
    "    except RuntimeError:\n",
    "        raise\n",
    "    #print(labels)\n",
    "    loss = criterion(output, labels)\n",
    "    loss.backward()\n",
    "    \n",
    "    # `clip_grad_norm` helps prevent the exploding gradient problem in RNNs / LSTMs.\n",
    "    # nn.utils.clip_grad_norm_(rnn.parameters(),  clip)\n",
    "   \n",
    "    optimizer.step()\n",
    "\n",
    "    return loss.item()"
   ]
  },
  {
   "cell_type": "code",
   "execution_count": null,
   "metadata": {},
   "outputs": [],
   "source": [
    "def train_rnn(rnn, batch_size, optimizer, criterion, n_epochs, show_every_n_batches=100):\n",
    "    batch_losses = []\n",
    "    val_batch_losses = []\n",
    "    valid_loss_min = np.Inf\n",
    "    \n",
    "    rnn.train()\n",
    "    \n",
    "    previousLoss = np.Inf\n",
    "    minLoss = np.Inf\n",
    "\n",
    "    print(\"Training for %d epoch(s)...\" % n_epochs)\n",
    "    for epoch_i in range(1, n_epochs + 1):\n",
    "        \n",
    "        # initialize hidden state\n",
    "        # hidden = rnn.init_hidden(batch_size)\n",
    "        # print(\"epoch \",epoch_i)\n",
    "        rnn.train()\n",
    "        for batch_i, (inputs, labels) in enumerate(train_loader, 1):\n",
    "            # batch_last = batch_i\n",
    "            # n_batches = len(train_loader.dataset) // batch_size\n",
    "            loss = forward_back_prop(rnn, optimizer, criterion, inputs, labels, clip=5)\n",
    "            #print(loss)\n",
    "            # record loss\n",
    "            batch_losses.append(loss)\n",
    "            \n",
    "        rnn.eval()\n",
    "        for batch_i, (inputs, labels) in enumerate(val_loader, 1):\n",
    "            # batch_last = batch_i\n",
    "            # n_batches = len(val_loader.dataset) // batch_size\n",
    "            if(train_on_gpu):\n",
    "                inputs, labels = inputs.cuda(), labels.cuda()\n",
    "            # if(batch_i > n_batches):\n",
    "                # break\n",
    "            try:\n",
    "                output = rnn.forward(inputs)\n",
    "                output = output.squeeze()\n",
    "            except RuntimeError:\n",
    "                raise\n",
    "            # print(labels)\n",
    "            loss = criterion(output, labels)\n",
    "\n",
    "            val_batch_losses.append(loss.item())\n",
    "\n",
    "        # printing loss stats\n",
    "        if epoch_i%show_every_n_batches == 0:\n",
    "            average_loss = np.average(batch_losses)\n",
    "            val_average_loss = np.average(val_batch_losses)\n",
    "            print('Epoch: {} \\tTraining Loss: {:.6f} \\tValidation Loss: {:.6f}'.format(epoch_i, average_loss, val_average_loss))\n",
    "\n",
    "            ## TODO: save the model if validation loss has decreased\n",
    "            # save model if validation loss has decreased\n",
    "            if val_average_loss < valid_loss_min:\n",
    "                print('Validation loss decreased ({:.6f} --> {:.6f}).  Saving model ...'.format(\n",
    "                valid_loss_min,\n",
    "                val_average_loss))\n",
    "                with open('save/trained_rnn_new', 'wb') as pickle_file:\n",
    "                    torch.save(rnn, pickle_file)\n",
    "                valid_loss_min = val_average_loss\n",
    "\n",
    "            batch_losses = []\n",
    "            val_batch_losses = []\n",
    "            \n",
    "    return rnn"
   ]
  },
  {
   "cell_type": "code",
   "execution_count": null,
   "metadata": {},
   "outputs": [],
   "source": [
    "train_on_gpu = torch.cuda.is_available()\n",
    "if not train_on_gpu:\n",
    "    print('No GPU found. Please use a GPU to train your neural network.')"
   ]
  },
  {
   "cell_type": "code",
   "execution_count": null,
   "metadata": {},
   "outputs": [],
   "source": [
    "# create model and move to gpu if available\n",
    "# rnn = RNN(input_size, output_size, embedding_dim, hidden_dim, n_layers, dropout=0.25)\n",
    "# rnn.apply(weight_init)\n",
    "#rnn = LSTMClassifier(embedding_dim, hidden_dim, input_size, n_layers, output_size)\n",
    "rnn = DNNClassifier(hidden_dim, input_size, output_size)\n",
    "\n",
    "#rnn = torch.load(\"save/trained_rnn_new\")\n",
    "\n",
    "if train_on_gpu:\n",
    "    rnn.cuda()\n",
    "\n",
    "decay_rate = learning_rate / num_epochs\n",
    "\n",
    "# print(decay_rate)\n",
    "# defining loss and optimization functions for training\n",
    "optimizer = torch.optim.Adam(rnn.parameters(), lr=learning_rate)\n",
    "#optimizer = torch.optim.SGD(rnn.parameters(), lr=learning_rate, momentum=0.9, weight_decay=decay_rate)\n",
    "\n",
    "# criterion = nn.CrossEntropyLoss()\n",
    "criterion = nn.MSELoss()\n",
    "#rnn = torch.load(\"trained_rnn_new\")\n",
    "\n",
    "# training the model\n",
    "trained_rnn = train_rnn(rnn, batch_size, optimizer, criterion, num_epochs, show_every_n_batches)\n",
    "\n",
    "# saving the trained model\n",
    "# helper.save_model('./save/trained_rnn', trained_rnn)\n",
    "print('Model Trained and Saved')"
   ]
  },
  {
   "cell_type": "code",
   "execution_count": null,
   "metadata": {},
   "outputs": [],
   "source": [
    "def predict(model, inputs):\n",
    "\n",
    "    if(train_on_gpu):\n",
    "        inputs = inputs.cuda()\n",
    "    \n",
    "    try:\n",
    "        output = model.forward(inputs)\n",
    "        output = output.squeeze()\n",
    "        #print(output)\n",
    "    except RuntimeError:\n",
    "        raise\n",
    "    \n",
    "    # prediction = np.array(output).argmax(0)\n",
    "    # p = F.softmax(output, dim=1).data\n",
    "    # p = F.sigmoid(output)\n",
    "    # p = F.logsigmoid(output)\n",
    "    p = output.cpu().detach().numpy().flatten()\n",
    "    #print(p[0])\n",
    "    # prediction = np.argmax(p)\n",
    "    # print(prediction)\n",
    "    return p[0]"
   ]
  },
  {
   "cell_type": "code",
   "execution_count": null,
   "metadata": {},
   "outputs": [],
   "source": [
    "model_rnn = torch.load(\"save/trained_rnn_new\")\n",
    "model_rnn.eval()\n",
    "display(X_train.head())"
   ]
  },
  {
   "cell_type": "code",
   "execution_count": null,
   "metadata": {},
   "outputs": [],
   "source": [
    "display(test_set.head())"
   ]
  },
  {
   "cell_type": "code",
   "execution_count": null,
   "metadata": {},
   "outputs": [],
   "source": [
    "Val_outputs = []\n",
    "Val_tagrets = []\n",
    "\n",
    "for batch_i, (inputs, labels) in enumerate(val_test_loader, 1):\n",
    "    # n_batches = len(val_loader.dataset) // batch_size\n",
    "    try:\n",
    "        labels = labels.cpu().detach().numpy().flatten()\n",
    "        valoutput = predict(model_rnn, torch.FloatTensor(inputs))\n",
    "        Val_outputs.append(valoutput)\n",
    "        Val_tagrets.append(labels[0])\n",
    "    except RuntimeError:\n",
    "        raise\n",
    "\n",
    "print(Val_outputs[:10])\n",
    "print(Val_tagrets[:10])\n",
    "\n",
    "r2_score(Val_tagrets, Val_outputs)"
   ]
  },
  {
   "cell_type": "code",
   "execution_count": null,
   "metadata": {},
   "outputs": [],
   "source": [
    "Val_outputs = []\n",
    "print(train[:500].shape)\n",
    "\n",
    "pred_training_set = train_set[col_train][:500]\n",
    "pred_training_set = pred_training_set.drop('traffic_volume',axis = 1)\n",
    "\n",
    "for row in pred_training_set.values:\n",
    "    valoutput = predict(model_rnn, torch.FloatTensor(row))\n",
    "    Val_outputs.append(valoutput)\n",
    "\n",
    "print(Val_outputs[:10])\n",
    "print(y_val.values[:10])\n",
    "\n",
    "s_out = pd.Series(prepro_y.inverse_transform(np.array(Val_outputs).reshape(500,1)).squeeze())\n",
    "t_out =  np.exp(s_out)\n",
    "print(t_out.values[:20])\n",
    "print(train_csv['traffic_volume'].values[:20])\n",
    "r2_score(train_csv['traffic_volume'].values[:500], t_out.values)"
   ]
  },
  {
   "cell_type": "code",
   "execution_count": null,
   "metadata": {},
   "outputs": [],
   "source": [
    "Test_outputs = []\n",
    "for row in test_set.values:\n",
    "    testoutput = predict(model_rnn, torch.FloatTensor(row))\n",
    "    Test_outputs.append(testoutput)\n",
    "\n",
    "print(Test_outputs[:30])\n",
    "print(len(Test_outputs))"
   ]
  },
  {
   "cell_type": "code",
   "execution_count": null,
   "metadata": {},
   "outputs": [],
   "source": [
    "\"\"\"\n",
    "test_input = torch.randn(3, 5, requires_grad=True)\n",
    "test_target = torch.randn(3, 5)\n",
    "X = Variable(torch.FloatTensor(X_train.values)) \n",
    "print(X)\n",
    "pred = predict(model_rnn, X)\n",
    "print(pred[:30])\n",
    "print(pred.shape)\n",
    "# pred= result\n",
    "print(y_val.values[:30])\n",
    "r2_score(y_train.values, pred)\n",
    "\n",
    "loss = nn.L1Loss()\n",
    "output_loss = loss(torch.FloatTensor(y_train.values),torch.FloatTensor(pred))\n",
    "print(1 - output_loss)\n",
    "\"\"\"\n"
   ]
  },
  {
   "cell_type": "code",
   "execution_count": null,
   "metadata": {},
   "outputs": [],
   "source": [
    "\"\"\"\n",
    "test_X = Variable(torch.FloatTensor(test_set.values))\n",
    "print(test_X)\n",
    "test_pred = predict(model_rnn, test_X)\n",
    "print(test_pred)\n",
    "print(len(test_pred))\n",
    "# print(np.array(test_p).reshape(9614,1))\n",
    "\"\"\""
   ]
  },
  {
   "cell_type": "code",
   "execution_count": null,
   "metadata": {},
   "outputs": [],
   "source": [
    "a = np.array([2,4,8,10,12,18, 100, 200, 400])\n",
    "log_a = np.log(a)\n",
    "exp_a = np.exp(log_a)\n",
    "print(a)\n",
    "print(log_a)\n",
    "print(exp_a)"
   ]
  },
  {
   "cell_type": "code",
   "execution_count": null,
   "metadata": {},
   "outputs": [],
   "source": [
    "s_out = pd.Series(prepro_y.inverse_transform(np.array(Test_outputs).reshape(10179,1)).squeeze())\n",
    "t_out =  np.power(s_out, 3)\n",
    "predictions = pd.DataFrame(test_csv[\"date_time\"].values, columns = [\"date_time\"])\n",
    "# predictions = pd.DataFrame(np.array(test_pred).reshape(8037,1), columns = [\"FORECLOSURE\"])\n",
    "# predictions[\"FORECLOSURE\"] = predictions[\"FORECLOSURE\"]\n",
    "# predictions['SalePrice'] = predictions['SalePrice']\n",
    "# predictions['FORECLOSURE'] = predictions['FORECLOSURE'].apply(lambda x: 0 if x < 0.01 else 1)\n",
    "# predictions['FORECLOSURE'] = predictions['FORECLOSURE'].apply(lambda x: 1 if x > 0 else x)\n",
    "# predictions = predictions.round(2)\n",
    "# predictions[\"ID\"] = test_csv[\"ID\"]\n",
    "predictions[\"traffic_volume\"] = t_out\n",
    "display(predictions.head())"
   ]
  },
  {
   "cell_type": "code",
   "execution_count": null,
   "metadata": {},
   "outputs": [],
   "source": [
    "predictions.to_csv(\"submission_3.csv\", index=False)"
   ]
  },
  {
   "cell_type": "code",
   "execution_count": null,
   "metadata": {},
   "outputs": [],
   "source": [
    "# import the modules we'll need\n",
    "from IPython.display import HTML\n",
    "import base64\n",
    "\n",
    "# function that takes in a dataframe and creates a text link to  \n",
    "# download it (will only work for files < 2MB or so)\n",
    "def create_download_link(df, title = \"Download CSV file\", filename=\"submission_1.csv\"):  \n",
    "    csv = df.to_csv(index=False)\n",
    "    b64 = base64.b64encode(csv.encode())\n",
    "    payload = b64.decode()\n",
    "    html = '<a download=\"{filename}\" href=\"data:text/csv;base64,{payload}\" target=\"_blank\">{title}</a>'\n",
    "    html = html.format(payload=payload,title=title,filename=filename)\n",
    "    return HTML(html)\n",
    "\n",
    "# create a link to download the dataframe\n",
    "create_download_link(predictions)"
   ]
  },
  {
   "cell_type": "code",
   "execution_count": null,
   "metadata": {},
   "outputs": [],
   "source": []
  }
 ],
 "metadata": {
  "kernelspec": {
   "display_name": "Python 3",
   "language": "python",
   "name": "python3"
  },
  "language_info": {
   "codemirror_mode": {
    "name": "ipython",
    "version": 3
   },
   "file_extension": ".py",
   "mimetype": "text/x-python",
   "name": "python",
   "nbconvert_exporter": "python",
   "pygments_lexer": "ipython3",
   "version": "3.7.2"
  },
  "widgets": {
   "state": {},
   "version": "1.1.2"
  }
 },
 "nbformat": 4,
 "nbformat_minor": 1
}
